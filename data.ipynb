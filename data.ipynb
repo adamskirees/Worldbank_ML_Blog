{
 "cells": [
  {
   "cell_type": "code",
   "execution_count": 60,
   "metadata": {},
   "outputs": [
    {
     "data": {
      "text/html": [
       "<div>\n",
       "<style scoped>\n",
       "    .dataframe tbody tr th:only-of-type {\n",
       "        vertical-align: middle;\n",
       "    }\n",
       "\n",
       "    .dataframe tbody tr th {\n",
       "        vertical-align: top;\n",
       "    }\n",
       "\n",
       "    .dataframe thead th {\n",
       "        text-align: right;\n",
       "    }\n",
       "</style>\n",
       "<table border=\"1\" class=\"dataframe\">\n",
       "  <thead>\n",
       "    <tr style=\"text-align: right;\">\n",
       "      <th></th>\n",
       "      <th>Country Name</th>\n",
       "      <th>Country Code</th>\n",
       "      <th>GDP INCREASING 1.5%</th>\n",
       "      <th>Population Growth</th>\n",
       "      <th>Life Expectancy</th>\n",
       "      <th>Fertility Rate</th>\n",
       "      <th>Mortality Rate</th>\n",
       "      <th>Inflation</th>\n",
       "      <th>Goods Imported</th>\n",
       "      <th>Gross capital formation</th>\n",
       "      <th>Revenue, non grant</th>\n",
       "      <th>Military Expenditure</th>\n",
       "      <th>Unnamed: 12</th>\n",
       "      <th>Unnamed: 13</th>\n",
       "      <th>Unnamed: 14</th>\n",
       "      <th>Unnamed: 15</th>\n",
       "      <th>Unnamed: 16</th>\n",
       "      <th>Unnamed: 17</th>\n",
       "      <th>Unnamed: 18</th>\n",
       "    </tr>\n",
       "  </thead>\n",
       "  <tbody>\n",
       "    <tr>\n",
       "      <th>0</th>\n",
       "      <td>Afghanistan</td>\n",
       "      <td>AFG</td>\n",
       "      <td>0</td>\n",
       "      <td>2.41</td>\n",
       "      <td>62.75</td>\n",
       "      <td>4.70</td>\n",
       "      <td>60.63</td>\n",
       "      <td>5.74</td>\n",
       "      <td>44.59</td>\n",
       "      <td>14.10</td>\n",
       "      <td>#DIV/0!</td>\n",
       "      <td>1.45</td>\n",
       "      <td>NaN</td>\n",
       "      <td>NaN</td>\n",
       "      <td>NaN</td>\n",
       "      <td>NaN</td>\n",
       "      <td>NaN</td>\n",
       "      <td>NaN</td>\n",
       "      <td>NaN</td>\n",
       "    </tr>\n",
       "    <tr>\n",
       "      <th>1</th>\n",
       "      <td>Albania</td>\n",
       "      <td>ALB</td>\n",
       "      <td>1</td>\n",
       "      <td>-0.86</td>\n",
       "      <td>77.39</td>\n",
       "      <td>1.40</td>\n",
       "      <td>9.43</td>\n",
       "      <td>4.08</td>\n",
       "      <td>43.44</td>\n",
       "      <td>26.02</td>\n",
       "      <td>24.53</td>\n",
       "      <td>1.35</td>\n",
       "      <td>NaN</td>\n",
       "      <td>NaN</td>\n",
       "      <td>NaN</td>\n",
       "      <td>NaN</td>\n",
       "      <td>NaN</td>\n",
       "      <td>NaN</td>\n",
       "      <td>NaN</td>\n",
       "    </tr>\n",
       "    <tr>\n",
       "      <th>2</th>\n",
       "      <td>Algeria</td>\n",
       "      <td>DZA</td>\n",
       "      <td>1</td>\n",
       "      <td>1.65</td>\n",
       "      <td>76.11</td>\n",
       "      <td>2.91</td>\n",
       "      <td>22.63</td>\n",
       "      <td>7.18</td>\n",
       "      <td>22.96</td>\n",
       "      <td>39.91</td>\n",
       "      <td>#DIV/0!</td>\n",
       "      <td>5.76</td>\n",
       "      <td>NaN</td>\n",
       "      <td>NaN</td>\n",
       "      <td>NaN</td>\n",
       "      <td>NaN</td>\n",
       "      <td>NaN</td>\n",
       "      <td>NaN</td>\n",
       "      <td>NaN</td>\n",
       "    </tr>\n",
       "    <tr>\n",
       "      <th>3</th>\n",
       "      <td>Angola</td>\n",
       "      <td>AGO</td>\n",
       "      <td>1</td>\n",
       "      <td>3.21</td>\n",
       "      <td>62.07</td>\n",
       "      <td>5.33</td>\n",
       "      <td>70.43</td>\n",
       "      <td>20.02</td>\n",
       "      <td>24.57</td>\n",
       "      <td>24.14</td>\n",
       "      <td>21.79</td>\n",
       "      <td>1.51</td>\n",
       "      <td>NaN</td>\n",
       "      <td>NaN</td>\n",
       "      <td>NaN</td>\n",
       "      <td>NaN</td>\n",
       "      <td>NaN</td>\n",
       "      <td>NaN</td>\n",
       "      <td>NaN</td>\n",
       "    </tr>\n",
       "  </tbody>\n",
       "</table>\n",
       "</div>"
      ],
      "text/plain": [
       "  Country Name Country Code  GDP INCREASING 1.5%  Population Growth  \\\n",
       "0  Afghanistan          AFG                    0               2.41   \n",
       "1      Albania          ALB                    1              -0.86   \n",
       "2      Algeria          DZA                    1               1.65   \n",
       "3       Angola          AGO                    1               3.21   \n",
       "\n",
       "  Life Expectancy Fertility Rate Mortality Rate  Inflation Goods Imported  \\\n",
       "0           62.75           4.70          60.63       5.74          44.59   \n",
       "1           77.39           1.40           9.43       4.08          43.44   \n",
       "2           76.11           2.91          22.63       7.18          22.96   \n",
       "3           62.07           5.33          70.43      20.02          24.57   \n",
       "\n",
       "  Gross capital formation Revenue, non grant Military Expenditure  \\\n",
       "0                   14.10            #DIV/0!                 1.45   \n",
       "1                   26.02              24.53                 1.35   \n",
       "2                   39.91            #DIV/0!                 5.76   \n",
       "3                   24.14              21.79                 1.51   \n",
       "\n",
       "   Unnamed: 12  Unnamed: 13  Unnamed: 14  Unnamed: 15  Unnamed: 16  \\\n",
       "0          NaN          NaN          NaN          NaN          NaN   \n",
       "1          NaN          NaN          NaN          NaN          NaN   \n",
       "2          NaN          NaN          NaN          NaN          NaN   \n",
       "3          NaN          NaN          NaN          NaN          NaN   \n",
       "\n",
       "   Unnamed: 17  Unnamed: 18  \n",
       "0          NaN          NaN  \n",
       "1          NaN          NaN  \n",
       "2          NaN          NaN  \n",
       "3          NaN          NaN  "
      ]
     },
     "execution_count": 60,
     "metadata": {},
     "output_type": "execute_result"
    }
   ],
   "source": [
    "# Python file -beginning stage\n",
    "# Initial set up and read in data from spreadsheet. Will need cleaning and intial data wrangle and assessment and EDA. \n",
    "\n",
    "import pandas as pd\n",
    "import numpy as np\n",
    "import matplotlib.pyplot as plt\n",
    "\n",
    "# Read in the CSV -- NOT YET USED \n",
    "df = pd.read_csv(r\"C:\\Users\\adam_\\Desktop\\2. Udacity - Data Science\\PROJECTS\\BLOG_POST_NEW\\DAta\\GDP_Dependent.csv\")\n",
    "\n",
    "df.head(4)\n"
   ]
  },
  {
   "cell_type": "markdown",
   "metadata": {},
   "source": [
    "** Recall project aim: to see how accurately this data can predict an increase in GDP over the 5 year period - we define \"increase\" as raising 1.5% per year for at least 3 years. "
   ]
  },
  {
   "cell_type": "markdown",
   "metadata": {},
   "source": [
    "## FUNCTIONS WILL BE DEFINED AND SAVED UP TOP, TO BE CALLED THROUGHOUT. HERE IS A LIST OF FUNCTIONS\n",
    "\n",
    "1. remove_unnamed_columns(df) - \n",
    "2. check_missing_values(df) - check in place\n",
    "3. count_missing_values_per_row(df_cleaned)\n",
    "4. impute_missing_values\n",
    "5. \n",
    "6. "
   ]
  },
  {
   "cell_type": "code",
   "execution_count": 61,
   "metadata": {},
   "outputs": [],
   "source": [
    "# DATA CLEANING \n",
    "## Remove these unnamed columns that should not have been bought over. \n",
    "\n",
    "#Use function\n",
    "def remove_unnamed_columns(df):\n",
    "    \"\"\"\n",
    "    Removes columns with names starting with \"Unnamed\" from a pandas DataFrame.\n",
    "\n",
    "    Args:\n",
    "        df: The pandas DataFrame to clean.\n",
    "\n",
    "    Returns:\n",
    "        A new pandas DataFrame with the \"Unnamed\" columns removed.\n",
    "    \"\"\"\n",
    "    unnamed_cols = [col for col in df.columns if 'Unnamed:' in col]\n",
    "    df = df.drop(columns=unnamed_cols, errors='ignore') \n",
    "    return df\n"
   ]
  },
  {
   "cell_type": "code",
   "execution_count": 62,
   "metadata": {},
   "outputs": [],
   "source": [
    "# define function to check for any missing values \n",
    "def check_missing_values(df_cleaned):\n",
    "    \"\"\"\n",
    "    Checks for missing values in our DataFrame and prints a summary.\n",
    "\n",
    "    Args:\n",
    "        df: The pandas DataFrame.\n",
    "    \"\"\"\n",
    "    missing_values = df_cleaned.isnull().sum()\n",
    "    total_missing = missing_values.sum()\n",
    "\n",
    "    if total_missing == 0:\n",
    "        print(\"No missing values found in the DataFrame.\")\n",
    "    else:\n",
    "        print(\"Missing Values Summary:\")\n",
    "        print(missing_values)\n",
    "        print(f\"\\nTotal missing values: {total_missing}\")"
   ]
  },
  {
   "cell_type": "code",
   "execution_count": null,
   "metadata": {},
   "outputs": [],
   "source": [
    "# Calculate the missing values per country in new column \n",
    "#Create function\n",
    "def count_missing_values_per_row(df_cleaned):\n",
    "    \"\"\"\n",
    "    Counts missing values (NaN, None, or '#DIV/0!') in each row of a DataFrame\n",
    "    and adds the count to a new column named 'Missing Values Count'.\n",
    "\n",
    "    Args:\n",
    "        df_cleaned: The pandas DataFrame.\n",
    "\n",
    "    Returns:\n",
    "        The DataFrame with the new 'Missing Values Count' column.\n",
    "    \"\"\"\n",
    "\n",
    "    # Replace '#DIV/0!' with NaN for consistent missing value handling\n",
    "    df_cleaned = df_cleaned.replace('#DIV/0!', np.nan)\n",
    "\n",
    "    # Count the number of missing values in each row\n",
    "    df_cleaned['Missing Values Count'] = df_cleaned.isnull().sum(axis=1)\n",
    "\n",
    "    return df_cleaned"
   ]
  },
  {
   "cell_type": "code",
   "execution_count": null,
   "metadata": {},
   "outputs": [],
   "source": [
    "# function to remove the rows with 4 or more missing values \n",
    "def remove_rows_with_many_missing(df_cleaned, threshold=4):\n",
    "    \"\"\"\n",
    "    Removes rows from a DataFrame where the 'Missing Values Count' is greater than or equal to a given threshold.\n",
    "\n",
    "    Args:\n",
    "        df_cleaned: The pandas DataFrame with the 'Missing Values Count' column.\n",
    "        threshold: The minimum number of missing values for a row to be removed.\n",
    "\n",
    "    Returns:\n",
    "        The DataFrame with the rows removed.\n",
    "    \"\"\"\n",
    "    df_filtered = df_cleaned[df_cleaned['Missing Values Count'] < threshold]\n",
    "    return df_filtered"
   ]
  },
  {
   "cell_type": "code",
   "execution_count": null,
   "metadata": {},
   "outputs": [],
   "source": [
    "# Impute any remaining missing values, using mean values and sklearn\n",
    "from sklearn.impute import SimpleImputer\n",
    "\n",
    "#define function for umputation\n",
    "def impute_missing_values(df_cleaned, strategy='mean'):\n",
    "    \"\"\"\n",
    "    Imputes missing values in a DataFrame using a specified strategy.\n",
    "\n",
    "    Args:\n",
    "        df_cleaned: The updated pandas DataFrame.\n",
    "        strategy: The imputation strategy ('mean', 'median', or 'most_frequent').\n",
    "\n",
    "    Returns:\n",
    "        The DataFrame with imputed missing values.\n",
    "    \"\"\"\n",
    "\n",
    "    # Create an imputer object\n",
    "    imputer = SimpleImputer(strategy=strategy)\n",
    "\n",
    "    # Identify numerical columns for imputation\n",
    "    numerical_cols = df_cleaned.select_dtypes(include=np.number).columns\n",
    "\n",
    "    # Impute missing values in numerical columns\n",
    "    df_cleaned[numerical_cols] = imputer.fit_transform(df_cleaned[numerical_cols])\n",
    "\n",
    "    return df"
   ]
  },
  {
   "cell_type": "markdown",
   "metadata": {},
   "source": [
    "### ^^^^^^ FUNCTIONS ARE ALL SAVED ABOVE ^^^^^ ### \n",
    "\n",
    "### CODE STARTS BELOW "
   ]
  },
  {
   "cell_type": "code",
   "execution_count": 65,
   "metadata": {},
   "outputs": [
    {
     "name": "stdout",
     "output_type": "stream",
     "text": [
      "          Country Name Country Code  GDP INCREASING 1.5%  Population Growth  \\\n",
      "0          Afghanistan          AFG                    0               2.41   \n",
      "1              Albania          ALB                    1              -0.86   \n",
      "2              Algeria          DZA                    1               1.65   \n",
      "3               Angola          AGO                    1               3.21   \n",
      "4  Antigua and Barbuda          ATG                    1               0.52   \n",
      "\n",
      "  Life Expectancy Fertility Rate Mortality Rate  Inflation Goods Imported  \\\n",
      "0           62.75           4.70          60.63       5.74          44.59   \n",
      "1           77.39           1.40           9.43       4.08          43.44   \n",
      "2           76.11           2.91          22.63       7.18          22.96   \n",
      "3           62.07           5.33          70.43      20.02          24.57   \n",
      "4           78.82           1.55           9.88       3.55          59.48   \n",
      "\n",
      "  Gross capital formation Revenue, non grant Military Expenditure  \n",
      "0                   14.10            #DIV/0!                 1.45  \n",
      "1                   26.02              24.53                 1.35  \n",
      "2                   39.91            #DIV/0!                 5.76  \n",
      "3                   24.14              21.79                 1.51  \n",
      "4                 #DIV/0!            #DIV/0!              #DIV/0!  \n"
     ]
    }
   ],
   "source": [
    "# Firstly, remove the numamed columns that were bought over from import\n",
    "df_cleaned = remove_unnamed_columns(df)\n",
    "\n",
    "print(df_cleaned.head()) # looks ok "
   ]
  },
  {
   "cell_type": "markdown",
   "metadata": {},
   "source": [
    "FIX THE ISSUES OF THE NUMEROUS #DIV/0! THROUGHOUT. \n",
    "We have 9 independent variables in this data set and will need some level of imputation. Would be acceptable to impute 3 of these per country so will first text how many missing values each country has. \n",
    "\n",
    "If the country has 4 or more missing values these rows will be deleted. "
   ]
  },
  {
   "cell_type": "code",
   "execution_count": null,
   "metadata": {},
   "outputs": [
    {
     "name": "stdout",
     "output_type": "stream",
     "text": [
      "          Country Name Country Code  GDP INCREASING 1.5%  Population Growth  \\\n",
      "0          Afghanistan          AFG                    0               2.41   \n",
      "1              Albania          ALB                    1              -0.86   \n",
      "2              Algeria          DZA                    1               1.65   \n",
      "3               Angola          AGO                    1               3.21   \n",
      "4  Antigua and Barbuda          ATG                    1               0.52   \n",
      "\n",
      "  Life Expectancy Fertility Rate Mortality Rate  Inflation Goods Imported  \\\n",
      "0           62.75           4.70          60.63       5.74          44.59   \n",
      "1           77.39           1.40           9.43       4.08          43.44   \n",
      "2           76.11           2.91          22.63       7.18          22.96   \n",
      "3           62.07           5.33          70.43      20.02          24.57   \n",
      "4           78.82           1.55           9.88       3.55          59.48   \n",
      "\n",
      "  Gross capital formation Revenue, non grant Military Expenditure  \\\n",
      "0                   14.10                NaN                 1.45   \n",
      "1                   26.02              24.53                 1.35   \n",
      "2                   39.91                NaN                 5.76   \n",
      "3                   24.14              21.79                 1.51   \n",
      "4                     NaN                NaN                  NaN   \n",
      "\n",
      "   Missing Values Count  \n",
      "0                     1  \n",
      "1                     0  \n",
      "2                     1  \n",
      "3                     0  \n",
      "4                     3  \n"
     ]
    }
   ],
   "source": [
    "# call the function onto our data and view - we have 174 rows ATM \n",
    "df_missing = count_missing_values_per_row(df_cleaned)\n",
    "\n",
    "print(df_missing.head(5))"
   ]
  },
  {
   "cell_type": "code",
   "execution_count": 72,
   "metadata": {},
   "outputs": [
    {
     "name": "stdout",
     "output_type": "stream",
     "text": [
      "            Country Name Country Code  GDP INCREASING 1.5%  Population Growth  \\\n",
      "0            Afghanistan          AFG                    0               2.41   \n",
      "1                Albania          ALB                    1              -0.86   \n",
      "2                Algeria          DZA                    1               1.65   \n",
      "3                 Angola          AGO                    1               3.21   \n",
      "4    Antigua and Barbuda          ATG                    1               0.52   \n",
      "..                   ...          ...                  ...                ...   \n",
      "169              Uruguay          URY                    1              -0.04   \n",
      "170           Uzbekistan          UZB                    1               1.93   \n",
      "171             Viet Nam          VNM                    1               0.84   \n",
      "172   West Bank and Gaza          PSE                    1               2.45   \n",
      "173               Zambia          ZMB                    1               2.85   \n",
      "\n",
      "    Life Expectancy Fertility Rate Mortality Rate  Inflation Goods Imported  \\\n",
      "0             62.75           4.70          60.63       5.74          44.59   \n",
      "1             77.39           1.40           9.43       4.08          43.44   \n",
      "2             76.11           2.91          22.63       7.18          22.96   \n",
      "3             62.07           5.33          70.43      20.02          24.57   \n",
      "4             78.82           1.55           9.88       3.55          59.48   \n",
      "..              ...            ...            ...        ...            ...   \n",
      "169           77.34           1.50           6.93       7.62          23.79   \n",
      "170           71.05           3.04          14.38      13.80          38.03   \n",
      "171           74.42           1.95          20.73       2.55          84.07   \n",
      "172           74.14           3.54          15.08       2.56          58.38   \n",
      "173           62.05           4.35          58.60      11.99          33.43   \n",
      "\n",
      "    Gross capital formation Revenue, non grant Military Expenditure  \\\n",
      "0                     14.10                NaN                 1.45   \n",
      "1                     26.02              24.53                 1.35   \n",
      "2                     39.91                NaN                 5.76   \n",
      "3                     24.14              21.79                 1.51   \n",
      "4                       NaN                NaN                  NaN   \n",
      "..                      ...                ...                  ...   \n",
      "169                   17.00              30.71                 1.98   \n",
      "170                   36.74              19.50                  NaN   \n",
      "171                   32.26                NaN                  NaN   \n",
      "172                   25.86              22.13                  NaN   \n",
      "173                   32.26              20.38                 1.15   \n",
      "\n",
      "     Missing Values Count  \n",
      "0                       1  \n",
      "1                       0  \n",
      "2                       1  \n",
      "3                       0  \n",
      "4                       3  \n",
      "..                    ...  \n",
      "169                     0  \n",
      "170                     1  \n",
      "171                     2  \n",
      "172                     1  \n",
      "173                     0  \n",
      "\n",
      "[160 rows x 13 columns]\n"
     ]
    }
   ],
   "source": [
    "# Remove rows with 4 or more missing values\n",
    "df_cleaned = remove_rows_with_many_missing(df_missing)\n",
    "\n",
    "# Print the resulting DataFrame - we are down to 160 rows in this data set. We now have 160 rows \n",
    "print(df_cleaned)"
   ]
  },
  {
   "cell_type": "code",
   "execution_count": 73,
   "metadata": {},
   "outputs": [
    {
     "name": "stdout",
     "output_type": "stream",
     "text": [
      "Missing Values Summary:\n",
      "Country Name                0\n",
      "Country Code                0\n",
      "GDP INCREASING 1.5%         0\n",
      "Population Growth           0\n",
      "Life Expectancy             1\n",
      "Fertility Rate              0\n",
      "Mortality Rate              5\n",
      "Inflation                   0\n",
      "Goods Imported              9\n",
      "Gross capital formation    12\n",
      "Revenue, non grant         34\n",
      "Military Expenditure       27\n",
      "Missing Values Count        0\n",
      "dtype: int64\n",
      "\n",
      "Total missing values: 88\n"
     ]
    }
   ],
   "source": [
    "#Check for missing values\n",
    "\n",
    "check_missing_values(df_cleaned)"
   ]
  },
  {
   "cell_type": "code",
   "execution_count": null,
   "metadata": {},
   "outputs": [
    {
     "name": "stderr",
     "output_type": "stream",
     "text": [
      "C:\\Users\\adam_\\AppData\\Local\\Temp/ipykernel_93620/1416653012.py:24: SettingWithCopyWarning: \n",
      "A value is trying to be set on a copy of a slice from a DataFrame.\n",
      "Try using .loc[row_indexer,col_indexer] = value instead\n",
      "\n",
      "See the caveats in the documentation: https://pandas.pydata.org/pandas-docs/stable/user_guide/indexing.html#returning-a-view-versus-a-copy\n",
      "  df_cleaned[numerical_cols] = imputer.fit_transform(df_cleaned[numerical_cols])\n"
     ]
    }
   ],
   "source": [
    "# View with imputed values and then check\n",
    "df_final = impute_missing_values(df_cleaned, strategy='mean') "
   ]
  },
  {
   "cell_type": "code",
   "execution_count": 76,
   "metadata": {},
   "outputs": [
    {
     "name": "stdout",
     "output_type": "stream",
     "text": [
      "Missing Values Summary:\n",
      "Country Name                 0\n",
      "Country Code                 0\n",
      "GDP INCREASING 1.5%          0\n",
      "Population Growth            0\n",
      "Life Expectancy              0\n",
      "Fertility Rate               0\n",
      "Mortality Rate               0\n",
      "Inflation                    0\n",
      "Goods Imported               0\n",
      "Gross capital formation      0\n",
      "Revenue, non grant           0\n",
      "Military Expenditure         0\n",
      "Unnamed: 12                174\n",
      "Unnamed: 13                174\n",
      "Unnamed: 14                174\n",
      "Unnamed: 15                174\n",
      "Unnamed: 16                174\n",
      "Unnamed: 17                174\n",
      "Unnamed: 18                174\n",
      "dtype: int64\n",
      "\n",
      "Total missing values: 1218\n"
     ]
    }
   ],
   "source": [
    "check_missing_values(df_final)"
   ]
  },
  {
   "cell_type": "markdown",
   "metadata": {},
   "source": [
    "Data now looks clean, however somehow the unnamed colums are back - re-run that function on the df_final dataset then retest"
   ]
  },
  {
   "cell_type": "code",
   "execution_count": 80,
   "metadata": {},
   "outputs": [],
   "source": [
    "df_ml = remove_unnamed_columns(df_final)\n"
   ]
  },
  {
   "cell_type": "code",
   "execution_count": 81,
   "metadata": {},
   "outputs": [
    {
     "name": "stdout",
     "output_type": "stream",
     "text": [
      "No missing values found in the DataFrame.\n"
     ]
    }
   ],
   "source": [
    "check_missing_values(df_ml)"
   ]
  }
 ],
 "metadata": {
  "kernelspec": {
   "display_name": "Python 3",
   "language": "python",
   "name": "python3"
  },
  "language_info": {
   "codemirror_mode": {
    "name": "ipython",
    "version": 3
   },
   "file_extension": ".py",
   "mimetype": "text/x-python",
   "name": "python",
   "nbconvert_exporter": "python",
   "pygments_lexer": "ipython3",
   "version": "3.9.13"
  }
 },
 "nbformat": 4,
 "nbformat_minor": 2
}
